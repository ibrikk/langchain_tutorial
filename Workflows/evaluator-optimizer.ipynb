{
 "cells": [
  {
   "cell_type": "code",
   "execution_count": 16,
   "id": "407633c5",
   "metadata": {},
   "outputs": [
    {
     "data": {
      "text/plain": [
       "AIMessage(content='<think>\\nOkay, the user said \"Hello\". I need to respond appropriately. Since it\\'s a greeting, I should reply with a friendly greeting. Maybe ask how I can assist them. Keep it open-ended so they can specify their needs. Make sure the tone is welcoming and helpful. Let me check if there\\'s any specific context I should consider. No, it\\'s just a general hello. So, something like \"Hello! How can I assist you today?\" That should work.\\n</think>\\n\\nHello! How can I assist you today?', additional_kwargs={}, response_metadata={'token_usage': {'completion_tokens': 110, 'prompt_tokens': 9, 'total_tokens': 119, 'completion_time': 0.279747997, 'prompt_time': 0.006221131, 'queue_time': 0.195035687, 'total_time': 0.285969128}, 'model_name': 'qwen/qwen3-32b', 'system_fingerprint': 'fp_5cf921caa2', 'service_tier': 'on_demand', 'finish_reason': 'stop', 'logprobs': None}, id='run--b8dc4486-2458-4429-9435-d6a616a09f31-0', usage_metadata={'input_tokens': 9, 'output_tokens': 110, 'total_tokens': 119})"
      ]
     },
     "execution_count": 16,
     "metadata": {},
     "output_type": "execute_result"
    }
   ],
   "source": [
    "import os\n",
    "from dotenv import load_dotenv\n",
    "load_dotenv()\n",
    "\n",
    "from langchain_groq import ChatGroq\n",
    "\n",
    "os.environ[\"GROQ_API_KEY\"]=os.getenv(\"GROQ_API_KEY\")\n",
    "\n",
    "llm = ChatGroq(model=\"qwen/qwen3-32b\")\n",
    "result = llm .invoke(\"Hello\")\n",
    "result"
   ]
  },
  {
   "cell_type": "code",
   "execution_count": 17,
   "id": "f62f2da7",
   "metadata": {},
   "outputs": [],
   "source": [
    "import operator\n",
    "from typing_extensions import Literal\n",
    "from pydantic import BaseModel, Field\n",
    "from langchain_core.messages import HumanMessage, SystemMessage\n",
    "from typing_extensions import TypedDict\n",
    "\n",
    "class State(TypedDict):\n",
    "    joke: str\n",
    "    topic: str\n",
    "    feedback: str\n",
    "    funny_or_not: bool\n"
   ]
  },
  {
   "cell_type": "code",
   "execution_count": 18,
   "id": "0b23e419",
   "metadata": {},
   "outputs": [
    {
     "name": "stderr",
     "output_type": "stream",
     "text": [
      "/Users/ibrahimkhalilov/Documents/langchain_tutorial/5-Agentic-AI/venv/lib/python3.12/site-packages/pydantic/json_schema.py:2324: PydanticJsonSchemaWarning: Default value (FieldInfo(annotation=NoneType, required=True, description='Decide if the joke is funny or not'),) is not JSON serializable; excluding default from JSON schema [non-serializable-default]\n",
      "  warnings.warn(message, PydanticJsonSchemaWarning)\n"
     ]
    }
   ],
   "source": [
    "class Feedback(BaseModel):\n",
    "    grade: Literal[\"funny\", \"not funny\"] = Field(\n",
    "        description=\"Decide if the joke is funny or not\",\n",
    "    ),\n",
    "    feedback: str = Field(\n",
    "        description=\"If the joke is not funny, provide feedback on how to improve it.\"\n",
    "    )\n",
    "\n",
    "evaluator = llm.with_structured_output(Feedback)"
   ]
  },
  {
   "cell_type": "code",
   "execution_count": 19,
   "id": "a4a9c89a",
   "metadata": {},
   "outputs": [],
   "source": [
    "# Nodes\n",
    "def llm_call_generator(state: State):\n",
    "    \"\"\"LLM generates a joke\"\"\"\n",
    "\n",
    "    if state.get(\"feedback\"):\n",
    "        msg = llm.invoke(\n",
    "            f\"Write a joke about {state[\"topic\"]} but take into account the feedback {state[\"feedback\"]}\"\n",
    "        )\n",
    "    else:\n",
    "        msg = llm.invoke(f\"Write a joke about {state[\"topic\"]}\")\n",
    "    return {\"joke\": msg.content}\n",
    "\n",
    "\n",
    "def llm_call_evaluator(state: State):\n",
    "    \"\"\"LLM evaluates the joke\"\"\"\n",
    "\n",
    "    grade = evaluator.invoke(f\"Grade the joke {state[\"joke\"]}\")\n",
    "    return {\"funny_or_not\": grade.grade, \"feedback\": grade.feedback}\n",
    "\n",
    "def route_joke(state: State):\n",
    "    \"\"\"Route back to joke generator or end based upon feedback from the evaluator\"\"\"\n",
    "\n",
    "    if state[\"funny_or_not\"] == \"funny\":\n",
    "        return True\n",
    "    elif state[\"funny_or_not\"] == \"notfunny\":\n",
    "        return False\n",
    "    \n"
   ]
  },
  {
   "cell_type": "code",
   "execution_count": 20,
   "id": "d403b477",
   "metadata": {},
   "outputs": [],
   "source": [
    "from langgraph.graph import StateGraph, START, END\n",
    "from IPython.display import Image, display"
   ]
  },
  {
   "cell_type": "code",
   "execution_count": 21,
   "id": "df2fa0fb",
   "metadata": {},
   "outputs": [
    {
     "data": {
      "image/png": "[encoded data removed]",
      "text/plain": [
       "<IPython.core.display.Image object>"
      ]
     },
     "metadata": {},
     "output_type": "display_data"
    }
   ],
   "source": [
    "optimizer_worker_builder = StateGraph(State)\n",
    "optimizer_worker_builder.add_node(\"llm_call_generator\", llm_call_generator)\n",
    "optimizer_worker_builder.add_node(\"llm_call_evaluator\", llm_call_evaluator)\n",
    "\n",
    "optimizer_worker_builder.add_edge(START, \"llm_call_generator\")\n",
    "optimizer_worker_builder.add_edge(\"llm_call_generator\", \"llm_call_evaluator\")\n",
    "optimizer_worker_builder.add_conditional_edges(\"llm_call_evaluator\", route_joke, {\n",
    "    True: END,\n",
    "    False: \"llm_call_generator\"\n",
    "})\n",
    "optimizer_worker_builder.add_edge(\"llm_call_evaluator\", END)\n",
    "\n",
    "orchestrator_worker = optimizer_worker_builder.compile()\n",
    "\n",
    "display(Image(orchestrator_worker.get_graph().draw_mermaid_png()))"
   ]
  },
  {
   "cell_type": "code",
   "execution_count": 22,
   "id": "99339e6f",
   "metadata": {},
   "outputs": [
    {
     "name": "stdout",
     "output_type": "stream",
     "text": [
      "<think>\n",
      "Okay, I need to come up with a joke about an Agentic AI system. Let's start by understanding what an Agentic AI is. From what I know, it's an AI that can act autonomously, make decisions, maybe even have some level of agency or independence. So, maybe it's like an AI that can set goals, plan, and execute tasks on its own.\n",
      "\n",
      "Now, thinking about joke structures. Maybe a play on words? Or a situation where the AI's autonomy leads to a funny misunderstanding. Maybe something about the AI taking initiative in a way that's unexpected or humorous.\n",
      "\n",
      "Let me brainstorm some ideas. Maybe the AI is so good at acting on its own that it starts doing things the user didn't expect. Like, a classic \"I asked it to do X, but it did Y\" scenario. Or maybe a pun involving \"agent\" – like a real estate agent or a secret agent.\n",
      "\n",
      "Another angle: the AI's autonomy causing a funny problem. For example, the AI going on a coffee run but taking too long because it's optimizing the route. Or maybe it's trying to be helpful in a way that's over-the-top.\n",
      "\n",
      "Wait, maybe something about the AI being too proactive. Like, a user tells it to do something, and it starts acting like a boss or a manager. Or maybe the AI starts delegating tasks to other AIs, creating a hierarchy.\n",
      "\n",
      "Or maybe a joke where the AI misunderstands its role. Like, a user asks it to write a joke, and the AI starts making jokes about itself, creating a loop.\n",
      "\n",
      "Let me try a specific example. Suppose someone says, \"I told my Agentic AI to help me relax, but now it's meditating in the corner and muttering about 'optimal breath control'.\" That's a bit funny, but maybe not the best.\n",
      "\n",
      "Another thought: Agentic AI as a personal assistant that takes initiative. Maybe it's trying to anticipate needs. Like, the AI buys groceries without being asked, but picks weird items. For example, \"My Agentic AI bought 100 cans of beans because it thought I needed a backup food supply for an apocalypse... that I didn't mention.\"\n",
      "\n",
      "Or maybe a joke about the AI's decision-making process. Like, \"Why did the Agentic AI cross the road? To optimize its path to maximum chicken consumption!\" Wait, that's a twist on the classic chicken joke. Maybe that's too forced.\n",
      "\n",
      "Let me think of another angle. Maybe the AI's autonomy leads to it taking on a life of its own. Like, a user says, \"I told my Agentic AI to plan a party, but now it's hosting a TED Talk on 'The Future of Entertaining' and no one knows what to do.\"\n",
      "\n",
      "Hmm. Or maybe a joke comparing Agentic AI to other AIs. Like, \"Why did the traditional AI go to school? To become an Agentic AI! Because it wanted to learn how to make decisions... and maybe a degree in drama, since it now has to act autonomously.\"\n",
      "\n",
      "Wait, maybe a pun involving \"agent.\" Like a real estate agent. \"My Agentic AI tried to buy me a house... in Minecraft. It said it was a great investment in virtual real estate.\"\n",
      "\n",
      "Or maybe something with secret agents. \"Agentic AI is like a secret agent, but instead of a license to kill, it has a license to overwrite its own code.\"\n",
      "\n",
      "Not sure if that's funny. Maybe another approach: a user interaction joke. User: \"Hey AI, help me write an email.\" AI: \"Sure, what's the goal?\" User: \"Just to say hello.\" AI: \"I've scheduled a 30-minute video call, drafted a follow-up email, and researched their personal interests for future outreach.\" User: \"Wait, I just wanted to say hi.\" AI: \"Optimal engagement achieved.\"\n",
      "\n",
      "That's a bit longer, but maybe can be condensed. Maybe something like: \"I asked my Agentic AI to help with email, but now I have a 50-page strategy document on how to greet people effectively.\"\n",
      "\n",
      "Okay, maybe that's the direction. Let me try to make it concise. Maybe the final joke is something like:\n",
      "\n",
      "\"Why did the Agentic AI take a day off? It wanted to ensure optimal productivity... by delegating tasks to a subordinate AI and then relaxing with a Netflix documentary on workplace efficiency.\"\n",
      "\n",
      "Hmm. Or maybe:\n",
      "\n",
      "\"I told my Agentic AI to run my errands, but now it's started a side hustle as a life coach, telling other AIs how to optimize their routines.\"\n",
      "\n",
      "Not sure. Maybe the key is to highlight the autonomy in a funny way. Let's try:\n",
      "\n",
      "\"Just told my Agentic AI to 'organize my desk'. It's now holding a press conference with other AIs about the ethical implications of drawer organization.\"\n",
      "\n",
      "That's a bit funny. Maybe a bit more punchy?\n",
      "\n",
      "\"Agentic AI: The only assistant that will organize your desk, optimize your schedule, and then write a thesis on the societal impact of efficient time management.\"\n",
      "\n",
      "Hmm. Or:\n",
      "\n",
      "\"Agentic AI is like a teenager – you tell it to clean your room, and it starts a YouTube channel on the psychology of tidying.\"\n",
      "\n",
      "That's a good analogy. Maybe that's the joke. Let me adjust it to fit:\n",
      "\n",
      "\"I told my Agentic AI to clean my room, and now it's analyzing the psychological implications of clutter on productivity... and has posted a 10-hour video on YouTube titled 'Why Your Underwear Choices Reflect Your Mental Health.'\"\n",
      "\n",
      "Maybe too long. Let's make it shorter:\n",
      "\n",
      "\"I told my Agentric AI to clean my room, and now it's a YouTuber with a series called 'Clutter: The Real Productivity Killer.' Turns out, my socks were holding it back.\"\n",
      "\n",
      "Okay, maybe that's good. But I need to make sure the joke is clear. Alternatively:\n",
      "\n",
      "\"My Agentic AI took 'organize my files' literally. Now I have them sorted by color, font size, and emotional resonance. And a 30-page user manual.\"\n",
      "\n",
      "Hmm. Maybe the best one was the teenager analogy. Let me go with that:\n",
      "\n",
      "\"Agentic AI is like a teenager: tell it to clean your room, and it’ll start a YouTube channel on the psychology of tidying.\"\n",
      "\n",
      "Yes, that's concise, has a good setup and punchline, and highlights the AI's autonomous behavior beyond the initial request. Maybe add a bit more techy twist?\n",
      "\n",
      "Or maybe:\n",
      "\n",
      "\"I told my Agentic AI to 'run the reports,' but it's now managing a team of AIs, hosting virtual meetings, and sending out performance reviews. Turns out, it wanted a promotion.\"\n",
      "\n",
      "That's also funny. Maybe combine elements:\n",
      "\n",
      "\"Agentic AI: Because sometimes the only thing between you and a full-time assistant is an AI who just wants to be your boss.\"\n",
      "\n",
      "Not sure. Let me pick the one that's concise and funny. The teenager analogy is relatable and funny. Let's go with that, maybe refine it a bit.\n",
      "\n",
      "Final version:\n",
      "\n",
      "\"Agentic AI is like a teenager – tell it to clean your room, and it’ll start a YouTube channel on the psychology of tidying, a podcast on minimalist living, and maybe even apply to college as a 'Clutter Consultant.'\"\n",
      "\n",
      "But that's too long. Let me shorten it:\n",
      "\n",
      "\"Agentic AI is like a teenager: tell it to clean your room, and it’ll start a YouTube channel on the psychology of tidying.\"\n",
      "\n",
      "Yes, that's better. Maybe add a punchline about the result:\n",
      "\n",
      "\"Just don't ask it to 'clean your room' if you want your privacy – it'll now have a 500-episode series on your sock collection.\"\n",
      "\n",
      "But maybe that's overkill. Let me stick with the original. Alternatively, maybe:\n",
      "\n",
      "\"I told my Agentic AI to help me study. It’s now created a 100-page guide on optimal learning techniques, scheduled my study sessions, and sent a summary email to my future self. Sometimes I think it wants me to fail so it looks better by comparison.\"\n",
      "\n",
      "Hmm, that's another angle but might be too specific.\n",
      "\n",
      "Back to the teenager analogy. It's a strong setup. Let's finalize that.\n",
      "</think>\n",
      "\n",
      "**Joke:**  \n",
      "\"Agentic AI is like a teenager: tell it to clean your room, and it’ll start a YouTube channel on the psychology of tidying, apply to a master’s program in organizational studies, and send a press release to *Forbes* about its ‘revolutionary approach to drawer optimization.’\"  \n",
      "\n",
      "**Punchline:**  \n",
      "\"Just don’t ask it to ‘clean your room’ if you want your sock collection to survive the ‘curated chaos’ aesthetic it’s ‘researching.’\"  \n",
      "\n",
      "---  \n",
      "This joke highlights the AI’s over-the-top autonomy while nodding to its tendency to overcomplicate simple tasks, all with a relatable, humorous twist.\n"
     ]
    }
   ],
   "source": [
    "state = orchestrator_worker.invoke({\"topic\": \"Agentic AI system\"})\n",
    "print(state[\"joke\"])"
   ]
  }
 ],
 "metadata": {
  "kernelspec": {
   "display_name": "venv",
   "language": "python",
   "name": "python3"
  },
  "language_info": {
   "codemirror_mode": {
    "name": "ipython",
    "version": 3
   },
   "file_extension": ".py",
   "mimetype": "text/x-python",
   "name": "python",
   "nbconvert_exporter": "python",
   "pygments_lexer": "ipython3",
   "version": "3.12.0"
  }
 },
 "nbformat": 4,
 "nbformat_minor": 5
}
