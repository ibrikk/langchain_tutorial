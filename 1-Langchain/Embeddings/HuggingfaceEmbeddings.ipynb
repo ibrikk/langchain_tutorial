{
 "cells": [
  {
   "cell_type": "markdown",
   "id": "17996031",
   "metadata": {},
   "source": [
    "## Data Ingestion -> Data Transformation (dividing into chunks) -> Embedding (text to vectors) -> VectorStoreDB (FAISS, CMROMA DB, AstraDB)\n"
   ]
  },
  {
   "cell_type": "code",
   "execution_count": 1,
   "id": "e08d8906",
   "metadata": {},
   "outputs": [],
   "source": [
    "import os\n",
    "from dotenv import load_dotenv\n",
    "load_dotenv()\n",
    "os.environ[\"HUGGING_FACE\"]=os.getenv(\"HUGGING_FACE\")"
   ]
  },
  {
   "cell_type": "markdown",
   "id": "7ca93837",
   "metadata": {},
   "source": [
    "### Sentence Transformers on Hugging Face"
   ]
  },
  {
   "cell_type": "code",
   "execution_count": 2,
   "id": "9426795a",
   "metadata": {},
   "outputs": [
    {
     "name": "stderr",
     "output_type": "stream",
     "text": [
      "/Users/ibrahimkhalilov/miniconda3/envs/llms/lib/python3.11/site-packages/tqdm/auto.py:21: TqdmWarning: IProgress not found. Please update jupyter and ipywidgets. See https://ipywidgets.readthedocs.io/en/stable/user_install.html\n",
      "  from .autonotebook import tqdm as notebook_tqdm\n"
     ]
    }
   ],
   "source": [
    "from langchain_huggingface import HuggingFaceEmbeddings\n",
    "\n",
    "emb = HuggingFaceEmbeddings(\n",
    "    model_name=\"intfloat/e5-base-v2\",\n",
    ")\n",
    "\n",
    "# E5 needs prefixes:\n",
    "doc_vecs = emb.embed_documents([\n",
    "    \"passage: Vector databases store and index embeddings.\",\n",
    "    \"passage: RAG combines retrieval and generation.\"\n",
    "])\n",
    "q_vec = emb.embed_query(\"query: what is RAG?\")"
   ]
  }
 ],
 "metadata": {
  "kernelspec": {
   "display_name": "llms",
   "language": "python",
   "name": "python3"
  },
  "language_info": {
   "codemirror_mode": {
    "name": "ipython",
    "version": 3
   },
   "file_extension": ".py",
   "mimetype": "text/x-python",
   "name": "python",
   "nbconvert_exporter": "python",
   "pygments_lexer": "ipython3",
   "version": "3.11.13"
  }
 },
 "nbformat": 4,
 "nbformat_minor": 5
}
