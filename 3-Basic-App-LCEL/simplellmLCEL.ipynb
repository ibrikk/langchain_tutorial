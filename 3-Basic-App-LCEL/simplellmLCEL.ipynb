{
 "cells": [
  {
   "cell_type": "markdown",
   "id": "d0bc8fd7",
   "metadata": {},
   "source": []
  }
 ],
 "metadata": {
  "language_info": {
   "name": "python"
  }
 },
 "nbformat": 4,
 "nbformat_minor": 5
}
