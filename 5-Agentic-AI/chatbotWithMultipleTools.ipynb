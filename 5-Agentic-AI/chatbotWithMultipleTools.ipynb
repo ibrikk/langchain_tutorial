{
 "cells": [
  {
   "cell_type": "code",
   "execution_count": 1,
   "id": "ca3b1b46",
   "metadata": {},
   "outputs": [],
   "source": [
    "## Building Chatbot with multiple tools using a langgraph\n",
    "\n",
    "## Create a chatbot with tool capabilities using arxiv, wikipedia search and some functions\n",
    "from dotenv import load_dotenv\n",
    "import os\n",
    "load_dotenv()\n",
    "os.environ[\"TAVILY_API_KEY\"]=os.getenv(\"TAVILY_API_KEY\")\n",
    "os.environ[\"GROQ_API_KEY\"]=os.getenv(\"GROQ_API_KEY\")\n"
   ]
  },
  {
   "cell_type": "code",
   "execution_count": 2,
   "id": "e349b75d",
   "metadata": {},
   "outputs": [],
   "source": [
    "from langchain_community.tools import ArxivQueryRun, WikipediaQueryRun\n",
    "from langchain_community.utilities import WikipediaAPIWrapper, ArxivAPIWrapper"
   ]
  },
  {
   "cell_type": "code",
   "execution_count": 3,
   "id": "83a268cf",
   "metadata": {},
   "outputs": [
    {
     "name": "stdout",
     "output_type": "stream",
     "text": [
      "arxiv\n"
     ]
    }
   ],
   "source": [
    "api_wrapper_arxiv = ArxivAPIWrapper(top_k_results=2, doc_content_chars_max=500)\n",
    "arxiv = ArxivQueryRun(api_wrapper=api_wrapper_arxiv)\n",
    "print(arxiv.name)"
   ]
  },
  {
   "cell_type": "code",
   "execution_count": 4,
   "id": "25c79fd6",
   "metadata": {},
   "outputs": [
    {
     "data": {
      "text/plain": [
       "\"Published: 2024-07-22\\nTitle: Attention Is All You Need But You Don't Need All Of It For Inference of Large Language Models\\nAuthors: Georgy Tyukin, Gbetondji J-S Dovonon, Jean Kaddour, Pasquale Minervini\\nSummary: The inference demand for LLMs has skyrocketed in recent months, and serving\\nmodels with low latencies remains challenging due to the quadratic input length\\ncomplexity of the attention layers. In this work, we investigate the effect of\\ndropping MLP and attention layers at inference time o\""
      ]
     },
     "execution_count": 4,
     "metadata": {},
     "output_type": "execute_result"
    }
   ],
   "source": [
    "arxiv.invoke(\"Attention is all you need\")"
   ]
  },
  {
   "cell_type": "code",
   "execution_count": 5,
   "id": "5b93a050",
   "metadata": {},
   "outputs": [
    {
     "name": "stdout",
     "output_type": "stream",
     "text": [
      "wikipedia\n"
     ]
    }
   ],
   "source": [
    "api_wrapper_wikipedia = WikipediaAPIWrapper(top_k_results=1, doc_content_chars_max=500)\n",
    "wikipedia = WikipediaQueryRun(api_wrapper=api_wrapper_wikipedia)\n",
    "print(wikipedia.name)"
   ]
  },
  {
   "cell_type": "code",
   "execution_count": 6,
   "id": "fe58ed44",
   "metadata": {},
   "outputs": [
    {
     "data": {
      "text/plain": [
       "'Page: Machine learning\\nSummary: Machine learning (ML) is a field of study in artificial intelligence concerned with the development and study of statistical algorithms that can learn from data and generalise to unseen data, and thus perform tasks without explicit instructions. Within a subdiscipline in machine learning, advances in the field of deep learning have allowed neural networks, a class of statistical algorithms, to surpass many previous machine learning approaches in performance.\\nML fi'"
      ]
     },
     "execution_count": 6,
     "metadata": {},
     "output_type": "execute_result"
    }
   ],
   "source": [
    "wikipedia.invoke(\"What is Machine Learning?\")"
   ]
  },
  {
   "cell_type": "code",
   "execution_count": 7,
   "id": "81643b80",
   "metadata": {},
   "outputs": [
    {
     "name": "stderr",
     "output_type": "stream",
     "text": [
      "/var/folders/w0/jqmsjv3s0fdf4vt1c98f61x00000gn/T/ipykernel_38366/1535493036.py:2: LangChainDeprecationWarning: The class `TavilySearchResults` was deprecated in LangChain 0.3.25 and will be removed in 1.0. An updated version of the class exists in the :class:`~langchain-tavily package and should be used instead. To use it run `pip install -U :class:`~langchain-tavily` and import as `from :class:`~langchain_tavily import TavilySearch``.\n",
      "  tavily = TavilySearchResults()\n"
     ]
    }
   ],
   "source": [
    "from langchain_community.tools.tavily_search import TavilySearchResults\n",
    "tavily = TavilySearchResults()"
   ]
  },
  {
   "cell_type": "code",
   "execution_count": 8,
   "id": "c4394593",
   "metadata": {},
   "outputs": [
    {
     "data": {
      "text/plain": [
       "[{'title': 'Artificial Intelligence News Highlights, 12 August 2025',\n",
       "  'url': 'https://www.moneycontrol.com/world/artificial-intelligence-news-live-updates-12-08-2025-alpha-liveblog-13440041.html',\n",
       "  'content': 'A company in Malaysia has created a new AI large language model specifically designed to serve the global Muslim population, which is estimated at around 2 billion people, according to a report in Bloomberg. The project leverages foundational open-source AI technology from the Chinese AI firm DeepSeek. This development is part of a wider trend in which AI systems are being localized to meet the unique cultural, linguistic, and religious needs of specific communities, addressing concerns about [...] address reports that its AI-driven search features are negatively impacting web traffic to publisher sites. Google has stated that click volume has remained “relatively stable” and that users are increasingly navigating to websites with diverse content like forums and videos. [...] OpenAI is actively modifying its strategy for its next major model rollout, reportedly referred to as GPT-5, to address several critical challenges, according to a report in VentureBeat. The company is focusing on stabilizing its underlying technical infrastructure to handle the demands of more advanced AI. Concurrently, OpenAI is working to fine-tune personalization features for users and is developing methods to effectively moderate what the report describes as more \"immersive interactions.\"',\n",
       "  'score': 0.91137725},\n",
       " {'title': 'AI Today in 5: August 12, 2025. The Beware the EU AI Act ...',\n",
       "  'url': 'https://www.jdsupra.com/legalnews/ai-today-in-5-august-12-2025-the-bewa-54741/',\n",
       "  'content': 'JD Supra\\n\\n# AI Today in 5: August 12, 2025. The Beware the EU AI Act Episode\\n\\n• AI and risk management for See more +\\n\\n• AI and risk management for See more +\\n\\n• AI and risk management for See more +\\n\\n• AI and risk management for See more +\\n\\n• AI and risk management for payments. (FinTechFinanceNews)\\n\\n• AI and risk management for payments. (FinTechFinanceNews)\\n\\n• AI and risk management for payments. (FinTechFinanceNews)\\n\\n• AI and risk management for payments. (FinTechFinanceNews) [...] Compliance into the Weeds: Two Cyber Security Cases for the Compliance Professional\\n\\nCompliance Tip of the Day: Finance Models for Compliance\\n\\nDaily Compliance News: August 13, 2025. The Bad App Store Ratings Edition\\n\\nCompliance Tip of the Day - Extending Compliance Value Across Your Organization\\n\\nAI Today in 5: August 12, 2025, The Creating Billionaires Episode\\n\\nInnovation in Compliance - Constructive Conversations: Insights with Nina Sunday [...] Daily Compliance News: August 12, 2025, The ABC Angle Edition\\n\\nDaily Compliance News: August 11, 2025, The Boss Doesn’t Work Edition\\n\\nCompliance Tip of the Day - The ROI of Compliance\\n\\nAdventures in Compliance: The Novels - The Valley of Fear, Sherlock Holmes’ Investigative Techniques for Today’s Challenges\\n\\nAI Today in 5: August 11, 2025, The ACHILLES Project Episode\\n\\nFCPA Compliance Report - Episode 770 - Integrating ESG in Global Outsourcing: Insights from Inge Zwick',\n",
       "  'score': 0.8488849},\n",
       " {'title': 'Artificial intelligence (AI)',\n",
       "  'url': 'https://www.theguardian.com/technology/artificialintelligenceai',\n",
       "  'content': \"### Use of AI could worsen racism and sexism in Australia, human rights commissioner warns\\n\\n## 12 August 2025\\n\\na man looking at a camera \\n\\n### Elon Musk threatens Apple with lawsuit over OpenAI, sparking Sam Altman feud\\n\\nPeter Lewis\\n\\n### One Big Idea Can AI deliver economic nirvana? Only if workers can monitor and shape how it’s used\\n\\nAustralian prime minister Anthony Albanese on election day\\n\\n### AI and misinformation in crosshairs of Labor’s review of its landslide election win [...] ## Artificial intelligence (AI)\\n\\n## 13 August 2025\\n\\nGroup of workers cleaning windows on high rise building\\n\\n### Is AI going to steal your job? Not if you work in cleaning, construction or hospitality, Australian report finds\\n\\nProductivity gains from AI will be discussed next week at the federal government’s economic summit, as unions and industry bodies raise concerns about copyright and privacy protections [...] ### Cat soap operas and babies trapped in space: the ‘AI slop’ taking over YouTube\\n\\n### Edith Pritchett's Venn diagrams From AI superintelligence to home-brewed booze: Edith Pritchett’s week in Venn diagrams – cartoon\\n\\n### AI tools used by English councils downplay women’s health issues, study finds\\n\\n## 10 August 2025\\n\\nDoctor checks mole\\n\\n### Brief letters Be warned about the dangers of tanning\\n\\nDr Karl Kruszelnicki\",\n",
       "  'score': 0.82560414},\n",
       " {'title': 'Use AI in the classroom to bring problems to life',\n",
       "  'url': 'https://www.nature.com/articles/d41586-025-02571-1',\n",
       "  'content': 'Version control: how I combat the rise of generative AI in the classroom\\n\\nCareer Column 05 AUG 25\\n\\nMargaret Boden obituary: cognitive scientist who explored how machines might emulate human imagination\\n\\nMargaret Boden obituary: cognitive scientist who explored how machines might emulate human imagination\\n\\nObituary 12 AUG 25\\n\\nAI content is tainting preprints: how moderators are fighting back\\n\\nAI content is tainting preprints: how moderators are fighting back\\n\\nNews 12 AUG 25 [...] Is your AI benchmark lying to you?\\n\\nIs your AI benchmark lying to you?\\n\\nTechnology Feature 06 AUG 25\\n\\nMargaret Boden obituary: cognitive scientist who explored how machines might emulate human imagination\\n\\nMargaret Boden obituary: cognitive scientist who explored how machines might emulate human imagination\\n\\nObituary 12 AUG 25\\n\\nSix questions to ask before jumping into a spreadsheet\\n\\nSix questions to ask before jumping into a spreadsheet\\n\\nTechnology Feature 11 AUG 25 [...] ## Related Articles\\n\\nDoes using ChatGPT change your brain activity? Study sparks debate\\n\\nAI demands a different approach to education\\n\\nSee more letters to the editor\\n\\n## Subjects\\n\\n## Latest on:\\n\\nHow researcher visa curbs threaten science careers\\n\\nHow researcher visa curbs threaten science careers\\n\\nCareer Feature 07 AUG 25\\n\\nPlan-B careers can be a force for good in science\\n\\nCorrespondence 05 AUG 25\\n\\nVersion control: how I combat the rise of generative AI in the classroom',\n",
       "  'score': 0.68697983},\n",
       " {'title': 'August 12, 2025 – PBS News Hour full episode',\n",
       "  'url': 'https://www.pbs.org/newshour/show/august-12-2025-pbs-news-hour-full-episode',\n",
       "  'content': \"Tuesday on the News Hour, prices on some goods are beginning to tick up and the president's tariffs are a key factor. A new State Department report pulls back some of its criticisms of human rights violations around the world. Plus, the world's largest hunger crisis, millions face famine and displacement amid the intensifying civil war in Sudan.\\n\\n## Listen to the Broadcast\\n\\n## Segments From This Episode [...] A person shops for groceries in New York City\\nU.S. President Trump's deploys the National Guard and federalize the Metropolitan Police Department in Washington\\nU.S. President Trump meets members of the media at the White House in Washington, D.C.\\nCDC shooting\\nPeople displaced by RSF attacks on Zamzam camp shelter in Tawila\\nIndigo\\nCongress Avoids Partial Government Shutdown\\n\\nSupport Provided By:\\nLearn more\\n\\nweb ad\\n\\n## More Ways to Watch\\n\\n### Educate your inbox\",\n",
       "  'score': 0.43007612}]"
      ]
     },
     "execution_count": 8,
     "metadata": {},
     "output_type": "execute_result"
    }
   ],
   "source": [
    "tavily.invoke(\"Provide me the recent AI news for August 12, 2025\")"
   ]
  },
  {
   "cell_type": "code",
   "execution_count": 9,
   "id": "2d864c15",
   "metadata": {},
   "outputs": [],
   "source": [
    "### Combine all the tools in the list\n",
    "\n",
    "tools = [arxiv, wikipedia, tavily]"
   ]
  },
  {
   "cell_type": "code",
   "execution_count": 10,
   "id": "a767c574",
   "metadata": {},
   "outputs": [],
   "source": [
    "from langchain_groq import ChatGroq\n",
    "\n",
    "llm = ChatGroq(model=\"qwen/qwen3-32b\")\n",
    "\n",
    "llm_tools = llm.bind_tools(tools)"
   ]
  },
  {
   "cell_type": "code",
   "execution_count": 11,
   "id": "bfb6c568",
   "metadata": {},
   "outputs": [
    {
     "data": {
      "text/plain": [
       "AIMessage(content='', additional_kwargs={'reasoning_content': \"Okay, the user is asking about recent AI news. I need to figure out which tool to use here. Let me check the available functions. There's arxiv, wikipedia, and tavily_search.\\n\\nArxiv is for scientific papers, which might be too technical and not the best for general news. Wikipedia is good for general knowledge but might not have the most up-to-date information. Tavily_search is described as a search engine for current events, so that seems like the right choice here. The user wants recent news, so using tavily_search_results_json with a query about AI news makes sense. I'll go with that.\\n\", 'tool_calls': [{'id': '02c446x8m', 'function': {'arguments': '{\"query\":\"recent AI news\"}', 'name': 'tavily_search_results_json'}, 'type': 'function'}]}, response_metadata={'token_usage': {'completion_tokens': 159, 'prompt_tokens': 400, 'total_tokens': 559, 'completion_time': 0.464901834, 'prompt_time': 0.139857274, 'queue_time': 0.198216429, 'total_time': 0.604759108}, 'model_name': 'qwen/qwen3-32b', 'system_fingerprint': 'fp_5cf921caa2', 'service_tier': 'on_demand', 'finish_reason': 'tool_calls', 'logprobs': None}, id='run--d642fd4b-11b9-4e9d-b823-d30f592a3963-0', tool_calls=[{'name': 'tavily_search_results_json', 'args': {'query': 'recent AI news'}, 'id': '02c446x8m', 'type': 'tool_call'}], usage_metadata={'input_tokens': 400, 'output_tokens': 159, 'total_tokens': 559})"
      ]
     },
     "execution_count": 11,
     "metadata": {},
     "output_type": "execute_result"
    }
   ],
   "source": [
    "from langchain_core.messages import AIMessage, HumanMessage\n",
    "result = llm_tools.invoke([HumanMessage(content=f\"What is the recent AI news?\")])\n",
    "result"
   ]
  },
  {
   "cell_type": "code",
   "execution_count": 12,
   "id": "f2ac776f",
   "metadata": {},
   "outputs": [
    {
     "data": {
      "text/plain": [
       "[{'name': 'tavily_search_results_json',\n",
       "  'args': {'query': 'recent AI news'},\n",
       "  'id': '02c446x8m',\n",
       "  'type': 'tool_call'}]"
      ]
     },
     "execution_count": 12,
     "metadata": {},
     "output_type": "execute_result"
    }
   ],
   "source": [
    "result.tool_calls"
   ]
  },
  {
   "cell_type": "code",
   "execution_count": 13,
   "id": "14410237",
   "metadata": {},
   "outputs": [],
   "source": [
    "from typing import TypedDict, Annotated\n",
    "from langchain_core.messages import AnyMessage\n",
    "from langgraph.graph.message import add_messages\n",
    "\n",
    "\n",
    "class State(TypedDict):\n",
    "    messages: Annotated[list[AnyMessage], add_messages]"
   ]
  },
  {
   "cell_type": "code",
   "execution_count": 14,
   "id": "854dabde",
   "metadata": {},
   "outputs": [
    {
     "data": {
      "image/png": "[encoded data removed]",
      "text/plain": [
       "<IPython.core.display.Image object>"
      ]
     },
     "metadata": {},
     "output_type": "display_data"
    }
   ],
   "source": [
    "### Entire Chatbot with Langgraph\n",
    "\n",
    "from langgraph.graph import StateGraph, START, END\n",
    "from langgraph.prebuilt import ToolNode, tools_condition\n",
    "from IPython.display import Image, display\n",
    "\n",
    "### Node definition\n",
    "def tool_calling_llm(state: State):\n",
    "    return {\"messages\": [llm_tools.invoke(state[\"messages\"])]}\n",
    "\n",
    "builder = StateGraph(State)\n",
    "builder.add_node(\"tool_calling_llm\", tool_calling_llm)\n",
    "builder.add_node(\"tools\", ToolNode(tools))\n",
    "\n",
    "builder.add_edge(START, \"tool_calling_llm\")\n",
    "builder.add_conditional_edges(\"tool_calling_llm\", \n",
    "                              # If the latest message (result) from assistant is a tool call -> tools_condition routes to tools\n",
    "                            # If the latest message (result) from assistant is NOT a tool call -> tools_condition routes to END\n",
    "                              tools_condition)\n",
    "\n",
    "builder.add_edge(\"tools\", END)\n",
    "\n",
    "graph = builder.compile()\n",
    "\n",
    "display(Image(graph.get_graph().draw_mermaid_png()))"
   ]
  },
  {
   "cell_type": "code",
   "execution_count": 15,
   "id": "62869858",
   "metadata": {},
   "outputs": [
    {
     "name": "stdout",
     "output_type": "stream",
     "text": [
      "================================\u001b[1m Human Message \u001b[0m=================================\n",
      "\n",
      "What is attention is all you need?\n",
      "==================================\u001b[1m Ai Message \u001b[0m==================================\n",
      "Tool Calls:\n",
      "  arxiv (w83dneery)\n",
      " Call ID: w83dneery\n",
      "  Args:\n",
      "    query: Attention is All You Need\n",
      "=================================\u001b[1m Tool Message \u001b[0m=================================\n",
      "Name: arxiv\n",
      "\n",
      "Published: 2024-07-22\n",
      "Title: Attention Is All You Need But You Don't Need All Of It For Inference of Large Language Models\n",
      "Authors: Georgy Tyukin, Gbetondji J-S Dovonon, Jean Kaddour, Pasquale Minervini\n",
      "Summary: The inference demand for LLMs has skyrocketed in recent months, and serving\n",
      "models with low latencies remains challenging due to the quadratic input length\n",
      "complexity of the attention layers. In this work, we investigate the effect of\n",
      "dropping MLP and attention layers at inference time o\n"
     ]
    }
   ],
   "source": [
    "from pprint import pprint\n",
    "messages = graph.invoke({\"messages\": HumanMessage(content=\"What is attention is all you need?\")})\n",
    "for m in messages[\"messages\"]:\n",
    "    m.pretty_print()"
   ]
  },
  {
   "cell_type": "code",
   "execution_count": 16,
   "id": "31a314a7",
   "metadata": {},
   "outputs": [
    {
     "name": "stdout",
     "output_type": "stream",
     "text": [
      "================================\u001b[1m Human Message \u001b[0m=================================\n",
      "\n",
      "What is machine learning\n",
      "==================================\u001b[1m Ai Message \u001b[0m==================================\n",
      "Tool Calls:\n",
      "  wikipedia (rjmdt5x95)\n",
      " Call ID: rjmdt5x95\n",
      "  Args:\n",
      "    query: machine learning\n",
      "=================================\u001b[1m Tool Message \u001b[0m=================================\n",
      "Name: wikipedia\n",
      "\n",
      "Page: Machine learning\n",
      "Summary: Machine learning (ML) is a field of study in artificial intelligence concerned with the development and study of statistical algorithms that can learn from data and generalise to unseen data, and thus perform tasks without explicit instructions. Within a subdiscipline in machine learning, advances in the field of deep learning have allowed neural networks, a class of statistical algorithms, to surpass many previous machine learning approaches in performance.\n",
      "ML fi\n"
     ]
    }
   ],
   "source": [
    "from pprint import pprint\n",
    "messages = graph.invoke({\"messages\": HumanMessage(content=\"What is machine learning\")})\n",
    "for m in messages[\"messages\"]:\n",
    "    m.pretty_print()"
   ]
  },
  {
   "cell_type": "code",
   "execution_count": null,
   "id": "9cc53985",
   "metadata": {},
   "outputs": [],
   "source": []
  },
  {
   "cell_type": "code",
   "execution_count": null,
   "id": "54ca32d5",
   "metadata": {},
   "outputs": [],
   "source": []
  }
 ],
 "metadata": {
  "kernelspec": {
   "display_name": "venv",
   "language": "python",
   "name": "python3"
  },
  "language_info": {
   "codemirror_mode": {
    "name": "ipython",
    "version": 3
   },
   "file_extension": ".py",
   "mimetype": "text/x-python",
   "name": "python",
   "nbconvert_exporter": "python",
   "pygments_lexer": "ipython3",
   "version": "3.12.0"
  }
 },
 "nbformat": 4,
 "nbformat_minor": 5
}
