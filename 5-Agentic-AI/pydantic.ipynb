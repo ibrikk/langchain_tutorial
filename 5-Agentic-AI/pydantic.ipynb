{
 "cells": [
  {
   "cell_type": "code",
   "execution_count": 3,
   "id": "29cb04c3",
   "metadata": {},
   "outputs": [],
   "source": [
    "## Pydantic Data Validation\n",
    "\n",
    "from langgraph.graph import StateGraph, START, END\n",
    "from pydantic import BaseModel\n",
    "\n",
    "class State(BaseModel):\n",
    "    name: str\n"
   ]
  },
  {
   "cell_type": "code",
   "execution_count": 4,
   "id": "a06c3eec",
   "metadata": {},
   "outputs": [],
   "source": [
    "## node function\n",
    "def example_Node(state: State):\n",
    "    return {\"name\": \"Hello\"}"
   ]
  },
  {
   "cell_type": "code",
   "execution_count": 5,
   "id": "fed6253f",
   "metadata": {},
   "outputs": [],
   "source": [
    "## stateGraph\n",
    "builder = StateGraph(State)\n",
    "builder.add_node(\"example_node\", example_Node)\n",
    "\n",
    "builder.add_edge(START, \"example_node\")\n",
    "builder.add_edge(\"example_node\", END)\n",
    "\n",
    "graph = builder.compile()\n",
    "\n"
   ]
  },
  {
   "cell_type": "code",
   "execution_count": 6,
   "id": "e549795c",
   "metadata": {},
   "outputs": [
    {
     "data": {
      "text/plain": [
       "{'name': 'Hello'}"
      ]
     },
     "execution_count": 6,
     "metadata": {},
     "output_type": "execute_result"
    }
   ],
   "source": [
    "graph.invoke({\"name\": \"Ibo\"})"
   ]
  },
  {
   "cell_type": "code",
   "execution_count": null,
   "id": "bfca167c",
   "metadata": {},
   "outputs": [],
   "source": []
  },
  {
   "cell_type": "code",
   "execution_count": null,
   "id": "c91177ff",
   "metadata": {},
   "outputs": [],
   "source": []
  }
 ],
 "metadata": {
  "kernelspec": {
   "display_name": "venv",
   "language": "python",
   "name": "python3"
  },
  "language_info": {
   "codemirror_mode": {
    "name": "ipython",
    "version": 3
   },
   "file_extension": ".py",
   "mimetype": "text/x-python",
   "name": "python",
   "nbconvert_exporter": "python",
   "pygments_lexer": "ipython3",
   "version": "3.12.0"
  }
 },
 "nbformat": 4,
 "nbformat_minor": 5
}
