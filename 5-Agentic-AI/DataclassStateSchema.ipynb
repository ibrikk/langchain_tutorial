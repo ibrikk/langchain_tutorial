{
 "cells": [
  {
   "cell_type": "code",
   "execution_count": 27,
   "id": "c1761045",
   "metadata": {},
   "outputs": [],
   "source": [
    "from typing_extensions import TypedDict\n",
    "from typing import Literal\n",
    "\n",
    "class TypeDictState(TypedDict): \n",
    "    name: str\n",
    "    game: Literal[\"soccer\", \"basketball\"]\n",
    "\n"
   ]
  },
  {
   "cell_type": "code",
   "execution_count": null,
   "id": "b0afd680",
   "metadata": {},
   "outputs": [],
   "source": [
    "def play_game(state: TypeDictState):\n",
    "    print(\"---Play Game node has been called--\")\n",
    "    return {\"name\": state[\"name\"] + \" wants to play \"}\n",
    "\n",
    "def soccer(state: TypeDictState):\n",
    "    print(\"--Soccer node has been called--\")\n",
    "    return {\"name\": state[\"name\"] + \" soccer\", \"game\": \"soccer\"}\n",
    "\n",
    "def basketball(state: TypeDictState):\n",
    "    print(\"--Soccer node has been called--\")\n",
    "    return {\"name\": state[\"name\"] + \" soccer\", \"game\": \"basketball\"}"
   ]
  },
  {
   "cell_type": "code",
   "execution_count": 29,
   "id": "1b9d5db2",
   "metadata": {},
   "outputs": [],
   "source": [
    "import random\n",
    "def decide_play(state: TypeDictState) -> Literal[\"soccer\", \"basketball\"]:\n",
    "    if random.random() < 0.5:\n",
    "        return \"soccer\"\n",
    "    else:\n",
    "        return \"basketball\""
   ]
  },
  {
   "cell_type": "code",
   "execution_count": 30,
   "id": "b73b9c99",
   "metadata": {},
   "outputs": [
    {
     "data": {
      "image/png": "[encoded data removed]",
      "text/plain": [
       "<IPython.core.display.Image object>"
      ]
     },
     "metadata": {},
     "output_type": "display_data"
    }
   ],
   "source": [
    "from IPython.display import Image, display\n",
    "from langgraph.graph import StateGraph, START, END\n",
    "\n",
    "builder = StateGraph(TypeDictState)\n",
    "builder.add_node(\"play_game\", play_game)\n",
    "builder.add_node(\"soccer\", soccer)\n",
    "builder.add_node(\"basketball\", basketball)\n",
    "\n",
    "## Flow of the graph\n",
    "\n",
    "builder.add_edge(START, \"play_game\")\n",
    "builder.add_conditional_edges(\"play_game\", decide_play)\n",
    "builder.add_edge(\"soccer\", END)\n",
    "builder.add_edge(\"basketball\", END)\n",
    "\n",
    "## Add\n",
    "graph = builder.compile()\n",
    "\n",
    "## View\n",
    "display(Image(graph.get_graph().draw_mermaid_png()))"
   ]
  },
  {
   "cell_type": "code",
   "execution_count": 31,
   "id": "9090be40",
   "metadata": {},
   "outputs": [
    {
     "name": "stdout",
     "output_type": "stream",
     "text": [
      "---Play Game node has been called--\n",
      "--Soccer node has been called--\n"
     ]
    },
    {
     "data": {
      "text/plain": [
       "{'name': 'Ibo', 'game': 'basketball'}"
      ]
     },
     "execution_count": 31,
     "metadata": {},
     "output_type": "execute_result"
    }
   ],
   "source": [
    "graph.invoke({\"name\": \"Ibo\"})"
   ]
  },
  {
   "cell_type": "code",
   "execution_count": 35,
   "id": "e34f32c5",
   "metadata": {},
   "outputs": [],
   "source": [
    "### Dataclasses\n",
    "\n",
    "from dataclasses import dataclass\n",
    "\n",
    "@dataclass\n",
    "class DataClassState:\n",
    "    name: str\n",
    "    game: Literal[\"soccer\", \"basketball\"]"
   ]
  },
  {
   "cell_type": "code",
   "execution_count": 36,
   "id": "d528f233",
   "metadata": {},
   "outputs": [],
   "source": [
    "def play_game(state: DataClassState):\n",
    "    print(\"---Play Game node has been called--\")\n",
    "    return {\"name\": state.name + \" wants to play \"}\n",
    "\n",
    "def soccer(state: DataClassState):\n",
    "    print(\"--Soccer node has been called--\")\n",
    "    return {\"name\": state.name+ \" soccer\", \"game\": \"soccer\"}\n",
    "\n",
    "def basketball(state: DataClassState):\n",
    "    print(\"--Soccer node has been called--\")\n",
    "    return {\"name\": state.name + \" soccer\", \"game\": \"basketball\"}"
   ]
  },
  {
   "cell_type": "code",
   "execution_count": 37,
   "id": "7051e635",
   "metadata": {},
   "outputs": [],
   "source": [
    "import random\n",
    "def decide_play(state: DataClassState) -> Literal[\"soccer\", \"basketball\"]:\n",
    "    if random.random() < 0.5:\n",
    "        return \"soccer\"\n",
    "    else:\n",
    "        return \"basketball\""
   ]
  },
  {
   "cell_type": "code",
   "execution_count": 38,
   "id": "a47e0623",
   "metadata": {},
   "outputs": [
    {
     "data": {
      "image/png": "[encoded data removed]",
      "text/plain": [
       "<IPython.core.display.Image object>"
      ]
     },
     "metadata": {},
     "output_type": "display_data"
    }
   ],
   "source": [
    "from IPython.display import Image, display\n",
    "from langgraph.graph import StateGraph, START, END\n",
    "\n",
    "builder = StateGraph(DataClassState)\n",
    "builder.add_node(\"play_game\", play_game)\n",
    "builder.add_node(\"soccer\", soccer)\n",
    "builder.add_node(\"basketball\", basketball)\n",
    "\n",
    "## Flow of the graph\n",
    "\n",
    "builder.add_edge(START, \"play_game\")\n",
    "builder.add_conditional_edges(\"play_game\", decide_play)\n",
    "builder.add_edge(\"soccer\", END)\n",
    "builder.add_edge(\"basketball\", END)\n",
    "\n",
    "## Add\n",
    "graph = builder.compile()\n",
    "\n",
    "## View\n",
    "display(Image(graph.get_graph().draw_mermaid_png()))"
   ]
  },
  {
   "cell_type": "code",
   "execution_count": 48,
   "id": "69e47323",
   "metadata": {},
   "outputs": [
    {
     "name": "stdout",
     "output_type": "stream",
     "text": [
      "---Play Game node has been called--\n",
      "--Soccer node has been called--\n"
     ]
    },
    {
     "data": {
      "text/plain": [
       "{'name': 'Ibo wants to play  soccer', 'game': 'soccer'}"
      ]
     },
     "execution_count": 48,
     "metadata": {},
     "output_type": "execute_result"
    }
   ],
   "source": [
    "graph.invoke(DataClassState(name=\"Ibo\", game=\"basketball\"))"
   ]
  }
 ],
 "metadata": {
  "kernelspec": {
   "display_name": "venv",
   "language": "python",
   "name": "python3"
  },
  "language_info": {
   "codemirror_mode": {
    "name": "ipython",
    "version": 3
   },
   "file_extension": ".py",
   "mimetype": "text/x-python",
   "name": "python",
   "nbconvert_exporter": "python",
   "pygments_lexer": "ipython3",
   "version": "3.12.0"
  }
 },
 "nbformat": 4,
 "nbformat_minor": 5
}
