{
 "cells": [
  {
   "cell_type": "markdown",
   "id": "8ecf4990",
   "metadata": {},
   "source": [
    "## Implementing Simple Chatbot Using LangGraph"
   ]
  },
  {
   "cell_type": "code",
   "execution_count": 18,
   "id": "35409e6c",
   "metadata": {},
   "outputs": [],
   "source": [
    "from typing_extensions import TypedDict\n",
    "\n",
    "from langgraph.graph import StateGraph, START, END\n",
    "\n",
    "## Reducers\n",
    "from typing import Annotated\n",
    "from langgraph.graph.message import add_messages"
   ]
  },
  {
   "cell_type": "code",
   "execution_count": 19,
   "id": "6b5dbfd4",
   "metadata": {},
   "outputs": [],
   "source": [
    "class State(TypedDict):\n",
    "    messages: Annotated[list, add_messages]"
   ]
  },
  {
   "cell_type": "code",
   "execution_count": 20,
   "id": "ef4b4487",
   "metadata": {},
   "outputs": [],
   "source": [
    "import os\n",
    "from dotenv import load_dotenv\n",
    "load_dotenv()\n",
    "\n",
    "os.environ[\"OPENAI_API_KEY\"] = os.getenv(\"OPENAI_API_KEY\")\n",
    "os.environ[\"GROQ_API_KEY\"] = os.getenv(\"GROQ_API_KEY\")\n"
   ]
  },
  {
   "cell_type": "code",
   "execution_count": 21,
   "id": "d4ec6e33",
   "metadata": {},
   "outputs": [
    {
     "data": {
      "text/plain": [
       "AIMessage(content='Hi there! How can I help you today?', additional_kwargs={'refusal': None}, response_metadata={'token_usage': {'completion_tokens': 19, 'prompt_tokens': 7, 'total_tokens': 26, 'completion_tokens_details': {'accepted_prediction_tokens': 0, 'audio_tokens': 0, 'reasoning_tokens': 0, 'rejected_prediction_tokens': 0}, 'prompt_tokens_details': {'audio_tokens': 0, 'cached_tokens': 0}}, 'model_name': 'gpt-5-2025-08-07', 'system_fingerprint': None, 'id': 'chatcmpl-C39WVvKusMyBVpSLPQcK61gtPbbhv', 'service_tier': 'default', 'finish_reason': 'stop', 'logprobs': None}, id='run--862233ea-ce13-411d-bf5c-70639f40afdb-0', usage_metadata={'input_tokens': 7, 'output_tokens': 19, 'total_tokens': 26, 'input_token_details': {'audio': 0, 'cache_read': 0}, 'output_token_details': {'audio': 0, 'reasoning': 0}})"
      ]
     },
     "execution_count": 21,
     "metadata": {},
     "output_type": "execute_result"
    }
   ],
   "source": [
    "from langchain_openai import ChatOpenAI\n",
    "llm = ChatOpenAI(model=\"gpt-5-2025-08-07\")\n",
    "llm.invoke(\"Hello\")"
   ]
  },
  {
   "cell_type": "code",
   "execution_count": 22,
   "id": "a7982fc9",
   "metadata": {},
   "outputs": [
    {
     "data": {
      "text/plain": [
       "AIMessage(content=\"<think>\\nOkay, the user introduced himself as Ibrahim, a PhD student in Computer Science. I need to respond appropriately. Let me start by welcoming him and acknowledging his academic status. Since he's a PhD student, maybe he's looking for advice, resources, or just a friendly conversation. I should ask how I can assist him further. Keep it open-ended to let him specify his needs. Also, make sure the tone is supportive and encouraging. Maybe mention areas like research, programming, or academic challenges. Don't assume his specific needs, just invite him to ask anything related to his PhD in CS. Keep the response concise and friendly.\\n</think>\\n\\nHello Ibrahim! Welcome, and congratulations on pursuing your PhD in Computer Science — that’s an exciting and challenging journey! How can I assist you today? Whether you need help with research ideas, programming, academic writing, or just want to discuss challenges in your field, feel free to ask. 😊\", additional_kwargs={}, response_metadata={'token_usage': {'completion_tokens': 192, 'prompt_tokens': 20, 'total_tokens': 212, 'completion_time': 0.527331932, 'prompt_time': 0.006536567, 'queue_time': 0.195187248, 'total_time': 0.533868499}, 'model_name': 'qwen/qwen3-32b', 'system_fingerprint': 'fp_5cf921caa2', 'service_tier': 'on_demand', 'finish_reason': 'stop', 'logprobs': None}, id='run--8c91f902-36f2-403c-9ced-99552bf2b031-0', usage_metadata={'input_tokens': 20, 'output_tokens': 192, 'total_tokens': 212})"
      ]
     },
     "execution_count": 22,
     "metadata": {},
     "output_type": "execute_result"
    }
   ],
   "source": [
    "from langchain_groq import ChatGroq\n",
    "llm_groq = ChatGroq(model=\"qwen/qwen3-32b\")\n",
    "llm_groq.invoke(\"Hey I am Ibrahim and I am a PhD student in CS\")\n"
   ]
  },
  {
   "cell_type": "code",
   "execution_count": 23,
   "id": "885054c4",
   "metadata": {},
   "outputs": [],
   "source": [
    "### Nodes\n",
    "\n",
    "def superbot(state: State):\n",
    "    return {\"messages\": [llm_groq.invoke(state[\"messages\"])]}"
   ]
  },
  {
   "cell_type": "code",
   "execution_count": 25,
   "id": "fb5fe885",
   "metadata": {},
   "outputs": [
    {
     "data": {
      "image/png": "[encoded data removed]",
      "text/plain": [
       "<IPython.core.display.Image object>"
      ]
     },
     "metadata": {},
     "output_type": "display_data"
    }
   ],
   "source": [
    "graph = StateGraph(State)\n",
    "\n",
    "## ndde\n",
    "graph.add_node(\"Suberbot\", superbot)\n",
    "## edges\n",
    "graph.add_edge(START, \"Suberbot\")\n",
    "graph.add_edge(\"Suberbot\", END)\n",
    "\n",
    "graph_builder = graph.compile()\n",
    "\n",
    "## Display\n",
    "from IPython.display import Image, display\n",
    "display(Image(graph_builder.get_graph().draw_mermaid_png()))\n"
   ]
  },
  {
   "cell_type": "code",
   "execution_count": 26,
   "id": "59d682ae",
   "metadata": {},
   "outputs": [
    {
     "data": {
      "text/plain": [
       "{'messages': [HumanMessage(content='Hi, my name is Ibrahim and I like coding.', additional_kwargs={}, response_metadata={}, id='e87ccf8f-fd99-4e47-902c-7585adff5c14'),\n",
       "  AIMessage(content=\"<think>\\nOkay, the user introduced himself as Ibrahim and mentioned he likes coding. I should respond in a friendly and encouraging way. Let's start by greeting him and acknowledging his interest. Maybe ask what kind of coding he does or what projects he's worked on. That could help in providing relevant advice or resources. Also, offer assistance in case he has any questions or needs help with something specific. Keep the tone positive and supportive to make him feel welcome. Let me check for any typos and ensure the response is natural.\\n</think>\\n\\nHello Ibrahim! It's great to meet you. Coding is an awesome passion—what kind of projects are you working on, or what languages do you enjoy using? Whether it's web development, data science, game design, or something else, I'd love to hear more. Need help with anything specific, or just looking for tips to level up your skills? 😊\", additional_kwargs={}, response_metadata={'token_usage': {'completion_tokens': 184, 'prompt_tokens': 19, 'total_tokens': 203, 'completion_time': 0.497637513, 'prompt_time': 0.352641832, 'queue_time': 3.761208046, 'total_time': 0.850279345}, 'model_name': 'qwen/qwen3-32b', 'system_fingerprint': 'fp_5cf921caa2', 'service_tier': 'on_demand', 'finish_reason': 'stop', 'logprobs': None}, id='run--2db6cc33-27ec-41ce-aa9f-866a1f301dca-0', usage_metadata={'input_tokens': 19, 'output_tokens': 184, 'total_tokens': 203})]}"
      ]
     },
     "execution_count": 26,
     "metadata": {},
     "output_type": "execute_result"
    }
   ],
   "source": [
    "## Invokation\n",
    "\n",
    "graph_builder.invoke({\"messages\": \"Hi, my name is Ibrahim and I like coding.\"})"
   ]
  },
  {
   "cell_type": "markdown",
   "id": "78ed2395",
   "metadata": {},
   "source": [
    "### Streaming the responses"
   ]
  },
  {
   "cell_type": "code",
   "execution_count": 32,
   "id": "14510250",
   "metadata": {},
   "outputs": [
    {
     "name": "stdout",
     "output_type": "stream",
     "text": [
      "{'messages': [HumanMessage(content='Hello my nams is Ibrahim', additional_kwargs={}, response_metadata={}, id='e57ef909-37fa-4a8f-82d6-e2461c40bd6a')]}\n",
      "{'messages': [HumanMessage(content='Hello my nams is Ibrahim', additional_kwargs={}, response_metadata={}, id='e57ef909-37fa-4a8f-82d6-e2461c40bd6a'), AIMessage(content='<think>\\nOkay, the user said \"Hello my nams is Ibrahim.\" First, I need to respond politely. Since the user introduced themselves as Ibrahim, I should acknowledge that and offer assistance. I should keep the response friendly and open-ended to encourage them to ask questions or share more. Also, check if there\\'s any typo in their message, like \"nams\" instead of \"name.\" But maybe it\\'s intentional or a different language. I\\'ll stick to a simple greeting and ask how I can help. Make sure the tone is welcoming and supportive.\\n</think>\\n\\nHello Ibrahim! Welcome. How can I assist you today? If you have any questions or need help with something, feel free to let me know. 😊', additional_kwargs={}, response_metadata={'token_usage': {'completion_tokens': 148, 'prompt_tokens': 14, 'total_tokens': 162, 'completion_time': 0.521647523, 'prompt_time': 0.006351125, 'queue_time': 0.194495496, 'total_time': 0.527998648}, 'model_name': 'qwen/qwen3-32b', 'system_fingerprint': 'fp_5cf921caa2', 'service_tier': 'on_demand', 'finish_reason': 'stop', 'logprobs': None}, id='run--6e806213-463a-41cc-9229-49eea28048a1-0', usage_metadata={'input_tokens': 14, 'output_tokens': 148, 'total_tokens': 162})]}\n"
     ]
    }
   ],
   "source": [
    "for event in graph_builder.stream({\"messages\": \"Hello my nams is Ibrahim\"}, stream_mode=\"values\"):\n",
    "    print(event)"
   ]
  }
 ],
 "metadata": {
  "kernelspec": {
   "display_name": "venv",
   "language": "python",
   "name": "python3"
  },
  "language_info": {
   "codemirror_mode": {
    "name": "ipython",
    "version": 3
   },
   "file_extension": ".py",
   "mimetype": "text/x-python",
   "name": "python",
   "nbconvert_exporter": "python",
   "pygments_lexer": "ipython3",
   "version": "3.12.0"
  }
 },
 "nbformat": 4,
 "nbformat_minor": 5
}
