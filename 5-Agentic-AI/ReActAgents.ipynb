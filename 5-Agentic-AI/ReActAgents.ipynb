{
 "cells": [
  {
   "cell_type": "code",
   "execution_count": 15,
   "id": "1e895e67",
   "metadata": {},
   "outputs": [],
   "source": [
    "from langchain_community.tools import ArxivQueryRun, WikipediaQueryRun\n",
    "from langchain_community.utilities import WikipediaAPIWrapper, ArxivAPIWrapper"
   ]
  },
  {
   "cell_type": "code",
   "execution_count": 16,
   "id": "d4de0f46",
   "metadata": {},
   "outputs": [
    {
     "name": "stdout",
     "output_type": "stream",
     "text": [
      "arxiv\n"
     ]
    }
   ],
   "source": [
    "api_wrapper_arxiv = ArxivAPIWrapper(top_k_results=2, doc_content_chars_max=500)\n",
    "arxiv = ArxivQueryRun(api_wrapper=api_wrapper_arxiv)\n",
    "print(arxiv.name)"
   ]
  },
  {
   "cell_type": "code",
   "execution_count": 17,
   "id": "735df3aa",
   "metadata": {},
   "outputs": [
    {
     "data": {
      "text/plain": [
       "\"Published: 2024-07-22\\nTitle: Attention Is All You Need But You Don't Need All Of It For Inference of Large Language Models\\nAuthors: Georgy Tyukin, Gbetondji J-S Dovonon, Jean Kaddour, Pasquale Minervini\\nSummary: The inference demand for LLMs has skyrocketed in recent months, and serving\\nmodels with low latencies remains challenging due to the quadratic input length\\ncomplexity of the attention layers. In this work, we investigate the effect of\\ndropping MLP and attention layers at inference time o\""
      ]
     },
     "execution_count": 17,
     "metadata": {},
     "output_type": "execute_result"
    }
   ],
   "source": [
    "arxiv.invoke(\"Attention is all you need\")"
   ]
  },
  {
   "cell_type": "code",
   "execution_count": 18,
   "id": "f8f44730",
   "metadata": {},
   "outputs": [
    {
     "name": "stdout",
     "output_type": "stream",
     "text": [
      "wikipedia\n"
     ]
    }
   ],
   "source": [
    "api_wrapper_wiki = WikipediaAPIWrapper(top_k_results=1, doc_content_chars_max=500)\n",
    "wiki = WikipediaQueryRun(api_wrapper=api_wrapper_wiki)\n",
    "print(wiki.name)"
   ]
  },
  {
   "cell_type": "code",
   "execution_count": 19,
   "id": "c4850c93",
   "metadata": {},
   "outputs": [
    {
     "data": {
      "text/plain": [
       "'Page: Machine learning\\nSummary: Machine learning (ML) is a field of study in artificial intelligence concerned with the development and study of statistical algorithms that can learn from data and generalise to unseen data, and thus perform tasks without explicit instructions. Within a subdiscipline in machine learning, advances in the field of deep learning have allowed neural networks, a class of statistical algorithms, to surpass many previous machine learning approaches in performance.\\nML fi'"
      ]
     },
     "execution_count": 19,
     "metadata": {},
     "output_type": "execute_result"
    }
   ],
   "source": [
    "wiki.invoke(\"what is machine learning\")"
   ]
  },
  {
   "cell_type": "code",
   "execution_count": 20,
   "id": "542229f7",
   "metadata": {},
   "outputs": [],
   "source": [
    "from dotenv import load_dotenv\n",
    "import os\n",
    "load_dotenv()\n",
    "os.environ[\"TAVILY_API_KEY\"]=os.getenv(\"TAVILY_API_KEY\")\n",
    "os.environ[\"GROQ_API_KEY\"]=os.getenv(\"GROQ_API_KEY\")\n",
    "# Langsmith tracing\n",
    "os.environ[\"LANGCHAIN_PROJECT_V2\"] = \"true\"\n",
    "os.environ[\"LANGCHAIN_API_KEY\"]=os.getenv(\"LANGCHAIN_API_KEY\")\n",
    "os.environ[\"LANGCHAIN_PROJECT\"]=\"ReAct-agent\"\n"
   ]
  },
  {
   "cell_type": "code",
   "execution_count": 21,
   "id": "045267b1",
   "metadata": {},
   "outputs": [],
   "source": [
    "def multiply(a: int, b: int) -> int:\n",
    "    \"\"\"\n",
    "    Multiply a and b.\n",
    "    Args: \n",
    "        a: first int\n",
    "        b: second int\n",
    "    \"\"\"\n",
    "    return a * b\n",
    "\n",
    "def add(a: int, b: int) -> int:\n",
    "    \"\"\"\n",
    "    Add a and b.\n",
    "    Args: \n",
    "        a: first int\n",
    "        b: second int\n",
    "    \"\"\"\n",
    "    return a + b\n",
    "\n",
    "def divide(a: int, b: int) -> int:\n",
    "    \"\"\"\n",
    "    Divide a and b.\n",
    "    Args: \n",
    "        a: first int\n",
    "        b: second int\n",
    "    \"\"\"\n",
    "    return a / b\n",
    "\n",
    "tools = [arxiv, wiki, multiply, add, divide]"
   ]
  },
  {
   "cell_type": "code",
   "execution_count": 31,
   "id": "f7a1cf34",
   "metadata": {},
   "outputs": [],
   "source": [
    "from langchain_community.tools.tavily_search import TavilySearchResults\n",
    "\n",
    "tavily = TavilySearchResults()\n",
    "\n",
    "tavily.invoke(\"Provide me the recent AI news for August 13 2025\")\n",
    "\n",
    "tools = [arxiv, wiki, multiply, add, divide, tavily]"
   ]
  },
  {
   "cell_type": "code",
   "execution_count": 32,
   "id": "2407d0e1",
   "metadata": {},
   "outputs": [],
   "source": [
    "from langchain_groq import ChatGroq\n",
    "\n",
    "llm = ChatGroq(model=\"qwen/qwen3-32b\")\n",
    "\n",
    "llm_with_tools = llm.bind_tools(tools)"
   ]
  },
  {
   "cell_type": "code",
   "execution_count": 33,
   "id": "ce8ebbc3",
   "metadata": {},
   "outputs": [
    {
     "data": {
      "text/plain": [
       "AIMessage(content='', additional_kwargs={'reasoning_content': 'Okay, the user is asking for recent AI news. I need to figure out which tool to use here. Let me check the available functions.\\n\\nThere\\'s the arxiv function, which is good for academic papers in fields like physics and computer science. But the user is asking for news, not research papers. Then there\\'s wikipedia, which is for general knowledge, but it might not have the most up-to-date news. The multiply, add, and divide functions are obviously for math operations, so not relevant here. \\n\\nThe tavily_search_results_json function is described as a search engine optimized for current events. That sounds perfect for finding recent news on AI. The user probably wants the latest developments, so using this tool makes sense. I\\'ll go with tavily_search_results_json and input a query like \"recent advancements in AI\" or \"latest AI news\". Let me make sure the parameters are correct. The function requires a query string, so I\\'ll phrase it to get the most relevant results.\\n', 'tool_calls': [{'id': '9zbsem5wf', 'function': {'arguments': '{\"query\":\"recent AI news\"}', 'name': 'tavily_search_results_json'}, 'type': 'function'}]}, response_metadata={'token_usage': {'completion_tokens': 232, 'prompt_tokens': 646, 'total_tokens': 878, 'completion_time': 0.736273696, 'prompt_time': 0.047582654, 'queue_time': 0.200193131, 'total_time': 0.78385635}, 'model_name': 'qwen/qwen3-32b', 'system_fingerprint': 'fp_5cf921caa2', 'service_tier': 'on_demand', 'finish_reason': 'tool_calls', 'logprobs': None}, id='run--dd40b25a-959f-448f-8df4-43435808d3d1-0', tool_calls=[{'name': 'tavily_search_results_json', 'args': {'query': 'recent AI news'}, 'id': '9zbsem5wf', 'type': 'tool_call'}], usage_metadata={'input_tokens': 646, 'output_tokens': 232, 'total_tokens': 878})"
      ]
     },
     "execution_count": 33,
     "metadata": {},
     "output_type": "execute_result"
    }
   ],
   "source": [
    "from pprint import pprint\n",
    "from langchain_core.messages import AIMessage, HumanMessage\n",
    "llm_with_tools.invoke([HumanMessage(content=f\"What is the recent AI news\")])"
   ]
  },
  {
   "cell_type": "code",
   "execution_count": 34,
   "id": "f538b389",
   "metadata": {},
   "outputs": [
    {
     "data": {
      "text/plain": [
       "[{'name': 'tavily_search_results_json',\n",
       "  'args': {'query': 'recent AI news'},\n",
       "  'id': 'dzhcqdc6k',\n",
       "  'type': 'tool_call'}]"
      ]
     },
     "execution_count": 34,
     "metadata": {},
     "output_type": "execute_result"
    }
   ],
   "source": [
    "llm_with_tools.invoke([HumanMessage(content=f\"What is the recent AI news\")]).tool_calls"
   ]
  },
  {
   "cell_type": "code",
   "execution_count": 35,
   "id": "bb0a4876",
   "metadata": {},
   "outputs": [],
   "source": [
    "## State Schema\n",
    "\n",
    "from typing import TypedDict, Annotated\n",
    "from langchain_core.messages import AnyMessage\n",
    "from langgraph.graph.message import add_messages\n",
    "\n",
    "\n",
    "class State(TypedDict):\n",
    "    messages: Annotated[list[AnyMessage], add_messages]"
   ]
  },
  {
   "cell_type": "code",
   "execution_count": 36,
   "id": "8b3c5f26",
   "metadata": {},
   "outputs": [
    {
     "data": {
      "image/png": "[encoded data removed]",
      "text/plain": [
       "<IPython.core.display.Image object>"
      ]
     },
     "metadata": {},
     "output_type": "display_data"
    }
   ],
   "source": [
    "### Entire Chatbot with Langgraph\n",
    "\n",
    "from langgraph.graph import StateGraph, START, END\n",
    "from langgraph.prebuilt import ToolNode, tools_condition\n",
    "from IPython.display import Image, display\n",
    "\n",
    "### Node definition\n",
    "def tool_calling_llm(state: State):\n",
    "    return {\"messages\": [llm_with_tools.invoke(state[\"messages\"])]}\n",
    "\n",
    "builder = StateGraph(State)\n",
    "builder.add_node(\"tool_calling_llm\", tool_calling_llm)\n",
    "builder.add_node(\"tools\", ToolNode(tools))\n",
    "\n",
    "builder.add_edge(START, \"tool_calling_llm\")\n",
    "builder.add_conditional_edges(\"tool_calling_llm\", \n",
    "                              # If the latest message (result) from assistant is a tool call -> tools_condition routes to tools\n",
    "                            # If the latest message (result) from assistant is NOT a tool call -> tools_condition routes to END\n",
    "                              tools_condition)\n",
    "\n",
    "builder.add_edge(\"tools\", \"tool_calling_llm\")\n",
    "\n",
    "graph = builder.compile()\n",
    "\n",
    "display(Image(graph.get_graph().draw_mermaid_png()))"
   ]
  },
  {
   "cell_type": "code",
   "execution_count": 39,
   "id": "675e38b2",
   "metadata": {},
   "outputs": [
    {
     "name": "stdout",
     "output_type": "stream",
     "text": [
      "================================\u001b[1m Human Message \u001b[0m=================================\n",
      "\n",
      "Provide me the recent AI news for August 12, 2025, hey add 5 plus 5 and then multiply by 3\n",
      "==================================\u001b[1m Ai Message \u001b[0m==================================\n",
      "Tool Calls:\n",
      "  tavily_search_results_json (1q9ywtp3n)\n",
      " Call ID: 1q9ywtp3n\n",
      "  Args:\n",
      "    query: recent AI news August 12 2025\n",
      "  add (nvzg8jkkh)\n",
      " Call ID: nvzg8jkkh\n",
      "  Args:\n",
      "    a: 5\n",
      "    b: 5\n",
      "  multiply (4qfz2yfw2)\n",
      " Call ID: 4qfz2yfw2\n",
      "  Args:\n",
      "    a: 10\n",
      "    b: 3\n",
      "=================================\u001b[1m Tool Message \u001b[0m=================================\n",
      "Name: tavily_search_results_json\n",
      "\n",
      "[{\"title\": \"August 12, 2025 – PBS News Hour full episode\", \"url\": \"https://www.pbs.org/newshour/show/august-12-2025-pbs-news-hour-full-episode\", \"content\": \"August 12, 2025PBS News Hour full episode. Aug 12, 2025 7:28 PM EDT ... How to beat AI-driven custom pricing. 5 min. Support Provided By: Learn more.\", \"score\": 0.97951}, {\"title\": \"Artificial Intelligence News Highlights, 12 August 2025\", \"url\": \"https://www.moneycontrol.com/world/artificial-intelligence-news-live-updates-12-08-2025-alpha-liveblog-13440041.html\", \"content\": \"From machine learning advancements and AI policy developments to corporate AI initiatives and research breakthroughs, find comprehensive\", \"score\": 0.9779}, {\"title\": \"Big AI News Week August 2025 AI Tools Upgrade: 15 Must-Know ...\", \"url\": \"https://medium.com/@ferreradaniel/big-ai-news-week-august-2025-ai-tools-upgrade-15-must-know-news-and-strategies-for-pros-and-side-e1e7ad130ffd\", \"content\": \"Catch up on the latest AI tools in August 2025: GPT-5, Claude Opus 4.1, Genie 3, music creation, HD video, and more. Compare features, prices,\", \"score\": 0.97632}, {\"title\": \"OU Enters Next Phase of AI Innovation - The University of Oklahoma\", \"url\": \"https://ou.edu/news/articles/2025/august/ou-enters-next-phase-of-ai-innovation\", \"content\": \"Recent News. Campus & Community. August 12, 2025. OU Enters Next Phase of AI Innovation. To expand AI-driven innovation at the university and\", \"score\": 0.97508}, {\"title\": \"AI Update, August 8, 2025: AI News and Views From the Past Week\", \"url\": \"https://www.marketingprofs.com/opinions/2025/53544/ai-update-august-8-2025-ai-news-and-views-from-the-past-week\", \"content\": \"US adds OpenAI, Google, Anthropic to federal AI vendor list. The General Services Administration has approved OpenAI's ChatGPT, Google's Gemini,\", \"score\": 0.97487}]\n",
      "=================================\u001b[1m Tool Message \u001b[0m=================================\n",
      "Name: add\n",
      "\n",
      "10\n",
      "=================================\u001b[1m Tool Message \u001b[0m=================================\n",
      "Name: multiply\n",
      "\n",
      "30\n",
      "==================================\u001b[1m Ai Message \u001b[0m==================================\n",
      "\n",
      "Here's the information you requested:\n",
      "\n",
      "**Recent AI News for August 12, 2025:**\n",
      "1. **PBS News Hour** covered AI-driven pricing strategies and related ethical debates.\n",
      "2. **Moneycontrol** provided updates on global AI policy developments and corporate innovations.\n",
      "3. **Medium** highlighted major AI tool upgrades including GPT-5, Claude Opus 4.1, and Genie 3.\n",
      "4. **University of Oklahoma** announced a new phase in AI research and innovation.\n",
      "5. **MarketingProfs** reported on U.S. government adding OpenAI, Google, and Anthropic to federal AI vendor lists.\n",
      "\n",
      "**Math Calculation:**\n",
      "5 + 5 = 10  \n",
      "10 × 3 = **30**\n",
      "\n",
      "Let me know if you'd like more details about any specific news item!\n"
     ]
    }
   ],
   "source": [
    "from pprint import pprint\n",
    "messages = graph.invoke({\"messages\": HumanMessage(content=\"Provide me the recent AI news for August 12, 2025, hey add 5 plus 5 and then multiply by 3\")})\n",
    "for m in messages[\"messages\"]:\n",
    "    m.pretty_print()"
   ]
  },
  {
   "cell_type": "code",
   "execution_count": 44,
   "id": "0807da87",
   "metadata": {},
   "outputs": [
    {
     "name": "stdout",
     "output_type": "stream",
     "text": [
      "================================\u001b[1m Human Message \u001b[0m=================================\n",
      "\n",
      "What is 5 plus 8\n",
      "==================================\u001b[1m Ai Message \u001b[0m==================================\n",
      "Tool Calls:\n",
      "  add (9ym1ndh7j)\n",
      " Call ID: 9ym1ndh7j\n",
      "  Args:\n",
      "    a: 5\n",
      "    b: 8\n",
      "=================================\u001b[1m Tool Message \u001b[0m=================================\n",
      "Name: add\n",
      "\n",
      "13\n",
      "==================================\u001b[1m Ai Message \u001b[0m==================================\n",
      "\n",
      "The result of 5 plus 8 is 13.\n"
     ]
    }
   ],
   "source": [
    "messages = graph.invoke({\"messages\": HumanMessage(content=\"What is 5 plus 8\")})\n",
    "\n",
    "for m in messages[\"messages\"]:\n",
    "    m.pretty_print()"
   ]
  },
  {
   "cell_type": "code",
   "execution_count": 45,
   "id": "132a24d2",
   "metadata": {},
   "outputs": [
    {
     "name": "stdout",
     "output_type": "stream",
     "text": [
      "================================\u001b[1m Human Message \u001b[0m=================================\n",
      "\n",
      "Divide that by 5\n",
      "==================================\u001b[1m Ai Message \u001b[0m==================================\n",
      "\n",
      "The phrase \"that\" is unclear in this context. Could you please specify the number you'd like me to divide by 5?\n"
     ]
    }
   ],
   "source": [
    "messages = [HumanMessage(content=\"Divide that by 5\")]\n",
    "messages = graph.invoke({\"messages\": messages})\n",
    "\n",
    "for m in messages[\"messages\"]:\n",
    "    m.pretty_print()"
   ]
  },
  {
   "cell_type": "code",
   "execution_count": 48,
   "id": "d5c56e45",
   "metadata": {},
   "outputs": [
    {
     "data": {
      "text/plain": [
       "<langgraph.graph.state.StateGraph at 0x11916ac60>"
      ]
     },
     "execution_count": 48,
     "metadata": {},
     "output_type": "execute_result"
    }
   ],
   "source": [
    "## Specify the thread\n",
    "\n",
    "### Entire Chatbot with Langgraph\n",
    "\n",
    "from langgraph.graph import StateGraph, START, END\n",
    "from langgraph.prebuilt import ToolNode, tools_condition\n",
    "from IPython.display import Image, display\n",
    "\n",
    "### Node definition\n",
    "def tool_calling_llm(state: State):\n",
    "    return {\"messages\": [llm_with_tools.invoke(state[\"messages\"])]}\n",
    "\n",
    "builder = StateGraph(State)\n",
    "builder.add_node(\"tool_calling_llm\", tool_calling_llm)\n",
    "builder.add_node(\"tools\", ToolNode(tools))\n",
    "\n",
    "builder.add_edge(START, \"tool_calling_llm\")\n",
    "builder.add_conditional_edges(\"tool_calling_llm\", \n",
    "                              # If the latest message (result) from assistant is a tool call -> tools_condition routes to tools\n",
    "                            # If the latest message (result) from assistant is NOT a tool call -> tools_condition routes to END\n",
    "                              tools_condition)\n",
    "\n",
    "builder.add_edge(\"tools\", \"tool_calling_llm\")"
   ]
  },
  {
   "cell_type": "code",
   "execution_count": 49,
   "id": "40ab583d",
   "metadata": {},
   "outputs": [
    {
     "data": {
      "image/png": "[encoded data removed]",
      "text/plain": [
       "<IPython.core.display.Image object>"
      ]
     },
     "metadata": {},
     "output_type": "display_data"
    }
   ],
   "source": [
    "from langgraph.checkpoint.memory import MemorySaver\n",
    "memory = MemorySaver()\n",
    "graph_memory = builder.compile(checkpointer=memory)\n",
    "\n",
    "display(Image(graph_memory.get_graph().draw_mermaid_png()))"
   ]
  },
  {
   "cell_type": "code",
   "execution_count": 57,
   "id": "aa2a0d3d",
   "metadata": {},
   "outputs": [
    {
     "name": "stdout",
     "output_type": "stream",
     "text": [
      "================================\u001b[1m Human Message \u001b[0m=================================\n",
      "\n",
      "Add 12 and 13\n",
      "==================================\u001b[1m Ai Message \u001b[0m==================================\n",
      "Tool Calls:\n",
      "  add (vyynd22w7)\n",
      " Call ID: vyynd22w7\n",
      "  Args:\n",
      "    a: 12\n",
      "    b: 13\n",
      "=================================\u001b[1m Tool Message \u001b[0m=================================\n",
      "Name: add\n",
      "\n",
      "25\n",
      "==================================\u001b[1m Ai Message \u001b[0m==================================\n",
      "\n",
      "The sum of 12 and 13 is **25**. Let me know if you need help with anything else! 😊\n"
     ]
    }
   ],
   "source": [
    "## Specify a thread\n",
    "\n",
    "config={\"configurable\": {\"thread_id\": \"2\"}}\n",
    "\n",
    "# Specify an input\n",
    "messages = [HumanMessage(content=\"Add 12 and 13\")]\n",
    "messages = graph_memory.invoke({\"messages\": messages}, config=config)\n",
    "for m in messages[\"messages\"]:\n",
    "    m.pretty_print()"
   ]
  },
  {
   "cell_type": "code",
   "execution_count": 58,
   "id": "fd1c4de2",
   "metadata": {},
   "outputs": [
    {
     "name": "stdout",
     "output_type": "stream",
     "text": [
      "================================\u001b[1m Human Message \u001b[0m=================================\n",
      "\n",
      "Add 12 and 13\n",
      "==================================\u001b[1m Ai Message \u001b[0m==================================\n",
      "Tool Calls:\n",
      "  add (vyynd22w7)\n",
      " Call ID: vyynd22w7\n",
      "  Args:\n",
      "    a: 12\n",
      "    b: 13\n",
      "=================================\u001b[1m Tool Message \u001b[0m=================================\n",
      "Name: add\n",
      "\n",
      "25\n",
      "==================================\u001b[1m Ai Message \u001b[0m==================================\n",
      "\n",
      "The sum of 12 and 13 is **25**. Let me know if you need help with anything else! 😊\n",
      "================================\u001b[1m Human Message \u001b[0m=================================\n",
      "\n",
      "Add that number to 25\n",
      "==================================\u001b[1m Ai Message \u001b[0m==================================\n",
      "Tool Calls:\n",
      "  add (s7nj0kxsf)\n",
      " Call ID: s7nj0kxsf\n",
      "  Args:\n",
      "    a: 25\n",
      "    b: 25\n",
      "=================================\u001b[1m Tool Message \u001b[0m=================================\n",
      "Name: add\n",
      "\n",
      "50\n",
      "==================================\u001b[1m Ai Message \u001b[0m==================================\n",
      "\n",
      "The result of adding 25 to 25 is **50**. Let me know if you need further assistance! 😊\n"
     ]
    }
   ],
   "source": [
    "messages = [HumanMessage(content=\"Add that number to 25\")]\n",
    "messages = graph_memory.invoke({\"messages\": messages}, config=config)\n",
    "for m in messages[\"messages\"]:\n",
    "    m.pretty_print()"
   ]
  },
  {
   "cell_type": "code",
   "execution_count": 59,
   "id": "6449b330",
   "metadata": {},
   "outputs": [
    {
     "name": "stdout",
     "output_type": "stream",
     "text": [
      "================================\u001b[1m Human Message \u001b[0m=================================\n",
      "\n",
      "Add 12 and 13\n",
      "==================================\u001b[1m Ai Message \u001b[0m==================================\n",
      "Tool Calls:\n",
      "  add (vyynd22w7)\n",
      " Call ID: vyynd22w7\n",
      "  Args:\n",
      "    a: 12\n",
      "    b: 13\n",
      "=================================\u001b[1m Tool Message \u001b[0m=================================\n",
      "Name: add\n",
      "\n",
      "25\n",
      "==================================\u001b[1m Ai Message \u001b[0m==================================\n",
      "\n",
      "The sum of 12 and 13 is **25**. Let me know if you need help with anything else! 😊\n",
      "================================\u001b[1m Human Message \u001b[0m=================================\n",
      "\n",
      "Add that number to 25\n",
      "==================================\u001b[1m Ai Message \u001b[0m==================================\n",
      "Tool Calls:\n",
      "  add (s7nj0kxsf)\n",
      " Call ID: s7nj0kxsf\n",
      "  Args:\n",
      "    a: 25\n",
      "    b: 25\n",
      "=================================\u001b[1m Tool Message \u001b[0m=================================\n",
      "Name: add\n",
      "\n",
      "50\n",
      "==================================\u001b[1m Ai Message \u001b[0m==================================\n",
      "\n",
      "The result of adding 25 to 25 is **50**. Let me know if you need further assistance! 😊\n",
      "================================\u001b[1m Human Message \u001b[0m=================================\n",
      "\n",
      "then multiply that number by 2\n",
      "==================================\u001b[1m Ai Message \u001b[0m==================================\n",
      "Tool Calls:\n",
      "  multiply (g21706mev)\n",
      " Call ID: g21706mev\n",
      "  Args:\n",
      "    a: 50\n",
      "    b: 2\n",
      "=================================\u001b[1m Tool Message \u001b[0m=================================\n",
      "Name: multiply\n",
      "\n",
      "100\n",
      "==================================\u001b[1m Ai Message \u001b[0m==================================\n",
      "\n",
      "The result of multiplying 50 by 2 is **100**. Let me know if you'd like to continue with more calculations! 😊\n"
     ]
    }
   ],
   "source": [
    "messages = [HumanMessage(content=\"then multiply that number by 2\")]\n",
    "messages = graph_memory.invoke({\"messages\": messages}, config=config)\n",
    "for m in messages[\"messages\"]:\n",
    "    m.pretty_print()"
   ]
  },
  {
   "cell_type": "code",
   "execution_count": null,
   "id": "79baba21",
   "metadata": {},
   "outputs": [],
   "source": []
  }
 ],
 "metadata": {
  "kernelspec": {
   "display_name": "venv",
   "language": "python",
   "name": "python3"
  },
  "language_info": {
   "codemirror_mode": {
    "name": "ipython",
    "version": 3
   },
   "file_extension": ".py",
   "mimetype": "text/x-python",
   "name": "python",
   "nbconvert_exporter": "python",
   "pygments_lexer": "ipython3",
   "version": "3.12.0"
  }
 },
 "nbformat": 4,
 "nbformat_minor": 5
}
